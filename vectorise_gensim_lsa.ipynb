{
 "cells": [
  {
   "cell_type": "code",
   "execution_count": 1,
   "metadata": {},
   "outputs": [],
   "source": [
    "from time import time\n",
    "from os.path import join\n",
    "\n",
    "DIR = './objects'\n",
    "\n",
    "DICTIONARY = 'wiki_gensim_70.dict'\n",
    "CORPUS = 'wiki_corpus_gensim_70.mm'\n",
    "LSAMODEL = 'gensim_70_lsa.model'\n",
    "SIMILARITIES = 'wiki_gensim_70_lsa.similarities'"
   ]
  },
  {
   "cell_type": "code",
   "execution_count": 2,
   "metadata": {},
   "outputs": [
    {
     "name": "stderr",
     "output_type": "stream",
     "text": [
      "/home/ubuntu/anaconda3/lib/python3.7/site-packages/smart_open/ssh.py:34: UserWarning: paramiko missing, opening SSH/SCP/SFTP paths will be disabled.  `pip install paramiko` to suppress\n",
      "  warnings.warn('paramiko missing, opening SSH/SCP/SFTP paths will be disabled.  `pip install paramiko` to suppress')\n"
     ]
    },
    {
     "name": "stdout",
     "output_type": "stream",
     "text": [
      "5396106 docs and 558522 tokens in dictionary.\n"
     ]
    }
   ],
   "source": [
    "from gensim.models import TfidfModel\n",
    "from gensim import corpora\n",
    "\n",
    "word_dict = corpora.Dictionary.load(join(DIR, DICTIONARY))\n",
    "corpus = corpora.MmCorpus(join(DIR, CORPUS))\n",
    "\n",
    "print(len(corpus), \"docs and\", len(word_dict), \"tokens in dictionary.\")"
   ]
  },
  {
   "cell_type": "markdown",
   "metadata": {},
   "source": [
    "# Apply Latent Semantic Indexing (LSI/LSA) or LDA?\n",
    "Ref: https://www.oreilly.com/learning/how-do-i-compare-document-similarity-using-python    \n",
    "Good resource: https://medium.com/nanonets/topic-modeling-with-lsa-psla-lda-and-lda2vec-555ff65b0b05\n",
    "(Distributed: https://radimrehurek.com/gensim/distributed.html)"
   ]
  },
  {
   "cell_type": "code",
   "execution_count": null,
   "metadata": {},
   "outputs": [],
   "source": [
    "from gensim.models import LsiModel\n",
    "\n",
    "start = time()\n",
    "\n",
    "NUM_DIMENSIONS = 500\n",
    "lsa_model = LsiModel(corpus, id2word=word_dict, num_topics=NUM_DIMENSIONS)\n",
    "lsa_model.save(join(DIR, LSAMODEL))\n",
    "\n",
    "print(\"this cell cost about:\", (time() - start) / 60, 'mins')"
   ]
  },
  {
   "cell_type": "code",
   "execution_count": null,
   "metadata": {},
   "outputs": [],
   "source": [
    "from gensim.similarities import MatrixSimilarity\n",
    "similarities = MatrixSimilarity(lsa_model[corpus])\n",
    "\n",
    "similarities.save(join(DIR, SIMILARITIES))\n",
    "# load by: similarities.MatrixSimilarity.load(join(DIR, 'deerwester.index'))"
   ]
  },
  {
   "cell_type": "markdown",
   "metadata": {},
   "source": [
    "# Find best relevant documents"
   ]
  },
  {
   "cell_type": "code",
   "execution_count": null,
   "metadata": {},
   "outputs": [],
   "source": [
    "from gensim.parsing.preprocessing import remove_stopwords\n",
    "from gensim.parsing.preprocessing import strip_punctuation\n",
    "from gensim.parsing.preprocessing import stem_text\n",
    "\n",
    "def preprocess_sent(text):\n",
    "    return stem_text(remove_stopwords(strip_punctuation(text)))\n",
    "\n",
    "claim1 = \"Nikolaj Coster-Waldau worked with the Fox Broadcasting Company.\"\n",
    "query_bow = word_dict.doc2bow(preprocess_sent(claim1).split())"
   ]
  },
  {
   "cell_type": "code",
   "execution_count": null,
   "metadata": {},
   "outputs": [],
   "source": [
    "query_lsa = las_model[query_bow]\n",
    "query_doc_similarities = similarities[query_lsa]\n",
    "doc_ids = np.argsort(query_doc_similarities)[-50:][::-1]"
   ]
  },
  {
   "cell_type": "code",
   "execution_count": null,
   "metadata": {},
   "outputs": [],
   "source": [
    "for doc_id in doc_ids:\n",
    "    print(\"title: \", titles[doc_id])"
   ]
  },
  {
   "cell_type": "code",
   "execution_count": null,
   "metadata": {},
   "outputs": [],
   "source": []
  }
 ],
 "metadata": {
  "kernelspec": {
   "display_name": "Python 3",
   "language": "python",
   "name": "python3"
  },
  "language_info": {
   "codemirror_mode": {
    "name": "ipython",
    "version": 3
   },
   "file_extension": ".py",
   "mimetype": "text/x-python",
   "name": "python",
   "nbconvert_exporter": "python",
   "pygments_lexer": "ipython3",
   "version": "3.7.3"
  }
 },
 "nbformat": 4,
 "nbformat_minor": 2
}
