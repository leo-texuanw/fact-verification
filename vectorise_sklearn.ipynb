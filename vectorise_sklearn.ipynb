{
 "cells": [
  {
   "cell_type": "markdown",
   "metadata": {},
   "source": [
    "# Sklearn TF-IDF matrix"
   ]
  },
  {
   "cell_type": "code",
   "execution_count": 1,
   "metadata": {},
   "outputs": [],
   "source": [
    "from os import listdir\n",
    "from time import time\n",
    "import gc\n",
    "\n",
    "DIR = './objects/'\n",
    "\n",
    "processed_corpus = listdir(DIR)"
   ]
  },
  {
   "cell_type": "code",
   "execution_count": 2,
   "metadata": {},
   "outputs": [],
   "source": [
    "from os.path import join\n",
    "\n",
    "def load_corpus(corpus_file, docs, path=DIR):\n",
    "    partial_docs = {}\n",
    "    with open(join(path, corpus_file), 'r') as f:\n",
    "        for line in f:\n",
    "            title, sent_id_, sents = line.strip('\\n').split(' ', 2)\n",
    "            partial_docs[title] = partial_docs.get(title, \"\") + sents + \" \"\n",
    "    docs.update(partial_docs)"
   ]
  },
  {
   "cell_type": "code",
   "execution_count": 3,
   "metadata": {},
   "outputs": [
    {
     "name": "stdout",
     "output_type": "stream",
     "text": [
      "5396106 docs in all.\n"
     ]
    }
   ],
   "source": [
    "from multiprocessing import Pool, Manager\n",
    "from functools import partial\n",
    "\n",
    "pool = Pool(processes = 12)\n",
    "\n",
    "manager = Manager()\n",
    "docs = manager.dict()\n",
    "\n",
    "pool.map(partial(load_corpus, docs=docs), processed_corpus)\n",
    "pool.close()\n",
    "pool.join()\n",
    "\n",
    "print(len(docs), \"docs in all.\")"
   ]
  },
  {
   "cell_type": "code",
   "execution_count": 4,
   "metadata": {},
   "outputs": [
    {
     "name": "stderr",
     "output_type": "stream",
     "text": [
      "100%|██████████| 5396106/5396106 [04:50<00:00, 18606.88it/s]\n"
     ]
    }
   ],
   "source": [
    "from tqdm import tqdm\n",
    "\n",
    "contents = [] # {doc_id, title}\n",
    "titles = {}\n",
    "i = 0\n",
    "\n",
    "for title in tqdm(docs.keys()):\n",
    "    titles[i] = title\n",
    "    i += 1\n",
    "    contents.append(docs[title])"
   ]
  },
  {
   "cell_type": "code",
   "execution_count": 6,
   "metadata": {},
   "outputs": [],
   "source": [
    "import pickle\n",
    "with open('titles_dict.pkl', 'wb') as f_titles:\n",
    "    pickle.dump(titles, f_titles)"
   ]
  },
  {
   "cell_type": "code",
   "execution_count": 7,
   "metadata": {},
   "outputs": [
    {
     "name": "stdout",
     "output_type": "stream",
     "text": [
      "cost 5.611696068445841 mins get all docs vectors\n",
      "(5396106, 3085725)\n"
     ]
    }
   ],
   "source": [
    "from sklearn.pipeline import Pipeline\n",
    "\n",
    "from sklearn.feature_extraction.text import CountVectorizer\n",
    "from sklearn.feature_extraction.text import TfidfTransformer\n",
    "from time import time\n",
    "\n",
    "start = time()\n",
    "\n",
    "tf_idf = Pipeline([('vect', CountVectorizer(stop_words='english')),\n",
    "                     ('tfidf', TfidfTransformer())\n",
    "])\n",
    "tf_idf_matrix = tf_idf.fit_transform(contents)\n",
    "# tfidf_matrix in chunks: https://gist.github.com/pbellon/575041e22320b8bc011929421a9d6263\n",
    "\n",
    "\n",
    "print(\"cost\", (time() - start) / 60, \"mins get all docs vectors\")\n",
    "print(tf_idf_matrix.shape)"
   ]
  },
  {
   "cell_type": "markdown",
   "metadata": {},
   "source": [
    "# Applying Singular Value Decomposition (SVD)\n",
    "**MemoryError** currently, matrix tooo large!\n",
    "\n",
    "Solutions:\n",
    "1. chunk corpus\n",
    "2. Database\n",
    "3. Trie instead of dict (https://github.com/pytries/marisa-trie)\n",
    "\n",
    "Ref: https://medium.com/@AgenceSkoli/how-to-avoid-memory-overloads-using-scikit-learn-f5eb911ae66c"
   ]
  },
  {
   "cell_type": "code",
   "execution_count": null,
   "metadata": {},
   "outputs": [],
   "source": [
    "# from sklearn.decomposition import TruncatedSVD\n",
    "\n",
    "# svd = TruncatedSVD(n_components=1000, random_state=90042)\n",
    "# truncated_matrix = svd.fit_transform(tf_idf_matrix)\n",
    "\n",
    "# from scipy.sparse.linalg import svds"
   ]
  },
  {
   "cell_type": "markdown",
   "metadata": {},
   "source": [
    "# Find most relevent documents"
   ]
  },
  {
   "cell_type": "code",
   "execution_count": 11,
   "metadata": {},
   "outputs": [
    {
     "name": "stdout",
     "output_type": "stream",
     "text": [
      "takes around 8.324501037597656 seconds for each claim.\n"
     ]
    }
   ],
   "source": [
    "import numpy as np\n",
    "from sklearn.metrics.pairwise import cosine_similarity\n",
    "\n",
    "start = time()\n",
    "claim1 = tf_idf.transform([\"Nikolaj Coster-Waldau worked with the Fox Broadcasting Company.\"])\n",
    "cosine_similarities = [similarity[0] for similarity in cosine_similarity(tf_idf_matrix, claim1)]\n",
    "doc_ids = np.argsort(cosine_similarities)[-50:][::-1]\n",
    "\n",
    "print(\"takes around\", time() - start, \"seconds for each claim.\")"
   ]
  },
  {
   "cell_type": "code",
   "execution_count": 12,
   "metadata": {},
   "outputs": [
    {
     "name": "stdout",
     "output_type": "stream",
     "text": [
      "title:  Coster\n",
      "title:  Ved_verdens_ende\n",
      "title:  Waldau_-LRB-surname-RRB-\n",
      "title:  Waldau\n",
      "title:  New_Amsterdam_-LRB-TV_series-RRB-\n",
      "title:  Nikolaj\n",
      "title:  A_Second_Chance_-LRB-2014_film-RRB-\n",
      "title:  Coster_-LRB-disambiguation-RRB-\n",
      "title:  A_Thousand_Times_Good_Night\n",
      "title:  Sven_Coster\n",
      "title:  The_Baker_-LRB-film-RRB-\n",
      "title:  Kalle_Coster\n",
      "title:  Nukaaka_Coster-Waldau\n",
      "title:  Nikolaj_Coster-Waldau\n",
      "title:  Jean-Baptiste_De_Coster_-LRB-Jesuit-RRB-\n",
      "title:  De_Coster\n",
      "title:  Saskia_De_Coster\n",
      "title:  Tracy_Coster\n",
      "title:  Project_Laurens_Janszoon_Coster\n",
      "title:  The_Other_Woman_-LRB-2014_film-RRB-\n",
      "title:  Dick_Coster\n",
      "title:  Salomon_Coster\n",
      "title:  Shot_Caller_-LRB-film-RRB-\n",
      "title:  Harry_Waldau\n",
      "title:  Small_Crimes\n",
      "title:  Arnold_Coster\n",
      "title:  Nikolaj_Plads\n",
      "title:  Kunsthallen_Nikolaj\n",
      "title:  Lionel_Lockridge\n",
      "title:  Gustav_Waldau\n",
      "title:  Samuel_Coster\n",
      "title:  Nikolaj_Hess\n",
      "title:  Coster–Kronig_transition\n",
      "title:  45_-LRB-film-RRB-\n",
      "title:  Stan_Coster\n",
      "title:  Fox_House\n",
      "title:  Tommy_Coster\n",
      "title:  Willem_Jacobszoon_Coster\n",
      "title:  The_Fox\n",
      "title:  Nahetal-Waldau\n",
      "title:  Elizabeth_Coster\n",
      "title:  Mama_-LRB-2013_film-RRB-\n",
      "title:  Paul_Waldau\n",
      "title:  Waldau_Army_Airfield\n",
      "title:  Tom_Coster\n",
      "title:  St._Nicholas'_Church,_Esbjerg\n",
      "title:  Nikolaj_Hansen_-LRB-footballer-RRB-\n",
      "title:  Francis_Coster\n",
      "title:  St._Nicholas'_Church,_Aarhus\n",
      "title:  Fox_-LRB-clothing-RRB-\n"
     ]
    }
   ],
   "source": [
    "for doc_id in doc_ids:\n",
    "    print(\"title: \", titles[doc_id])"
   ]
  },
  {
   "cell_type": "code",
   "execution_count": null,
   "metadata": {},
   "outputs": [],
   "source": []
  }
 ],
 "metadata": {
  "kernelspec": {
   "display_name": "Python 3",
   "language": "python",
   "name": "python3"
  },
  "language_info": {
   "codemirror_mode": {
    "name": "ipython",
    "version": 3
   },
   "file_extension": ".py",
   "mimetype": "text/x-python",
   "name": "python",
   "nbconvert_exporter": "python",
   "pygments_lexer": "ipython3",
   "version": "3.7.3"
  }
 },
 "nbformat": 4,
 "nbformat_minor": 2
}
