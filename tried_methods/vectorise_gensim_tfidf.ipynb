{
 "cells": [
  {
   "cell_type": "code",
   "execution_count": 1,
   "metadata": {},
   "outputs": [],
   "source": [
    "from time import time\n",
    "from os.path import join\n",
    "\n",
    "DIR = './objects'\n",
    "\n",
    "DICTIONARY = 'wiki_gensim_70.dict'\n",
    "CORPUS = 'wiki_corpus_gensim_70.mm'\n",
    "TFIDF_MODEL = 'gensim_70_tfidf.model'\n",
    "#TFIDF_VECS = 'gensim_70_tfidf.vecs'\n",
    "SIMILARITIES = 'wiki_gensim_70_tfidf.similarities'\n",
    "TITLES = 'titles_gensim_70.pkl'"
   ]
  },
  {
   "cell_type": "code",
   "execution_count": 2,
   "metadata": {},
   "outputs": [
    {
     "name": "stderr",
     "output_type": "stream",
     "text": [
      "/home/ubuntu/anaconda3/lib/python3.7/site-packages/smart_open/ssh.py:34: UserWarning: paramiko missing, opening SSH/SCP/SFTP paths will be disabled.  `pip install paramiko` to suppress\n",
      "  warnings.warn('paramiko missing, opening SSH/SCP/SFTP paths will be disabled.  `pip install paramiko` to suppress')\n"
     ]
    },
    {
     "name": "stdout",
     "output_type": "stream",
     "text": [
      "5396106 docs and 558522 tokens in dictionary.\n"
     ]
    }
   ],
   "source": [
    "from gensim.models import TfidfModel\n",
    "from gensim import corpora\n",
    "\n",
    "word_dict = corpora.Dictionary.load(join(DIR, DICTIONARY))\n",
    "corpus = corpora.MmCorpus(join(DIR, CORPUS))\n",
    "\n",
    "print(len(corpus), \"docs and\", len(word_dict), \"tokens in dictionary.\")"
   ]
  },
  {
   "cell_type": "markdown",
   "metadata": {},
   "source": [
    "# Apply Latent Semantic Indexing (LSI/LSA) or LDA?\n",
    "Ref: https://www.oreilly.com/learning/how-do-i-compare-document-similarity-using-python    \n",
    "Good resource: https://medium.com/nanonets/topic-modeling-with-lsa-psla-lda-and-lda2vec-555ff65b0b05  \n",
    "(Distributed: https://radimrehurek.com/gensim/distributed.html)"
   ]
  },
  {
   "cell_type": "code",
   "execution_count": 5,
   "metadata": {},
   "outputs": [
    {
     "name": "stdout",
     "output_type": "stream",
     "text": [
      "this cell cost about: 3.726845208803813 mins\n"
     ]
    }
   ],
   "source": [
    "from gensim.models import TfidfModel\n",
    "\n",
    "start = time()\n",
    "\n",
    "model = TfidfModel(corpus)\n",
    "model.save(join(DIR, TFIDF_MODEL))\n",
    "\n",
    "print(\"this cell cost about:\", (time() - start) / 60, 'mins')"
   ]
  },
  {
   "cell_type": "code",
   "execution_count": 10,
   "metadata": {},
   "outputs": [
    {
     "name": "stdout",
     "output_type": "stream",
     "text": [
      "this cell cost about: 51.84820192257563 mins\n"
     ]
    }
   ],
   "source": [
    "from gensim.similarities import Similarity\n",
    "\n",
    "start = time()\n",
    "\n",
    "tfidf_vecs = model[corpus]\n",
    "#tfidf_vecs.save(join(DIR, TFIDF_VECS))\n",
    "similarities = Similarity('./similarity_corpus/', tfidf_vecs, num_features=len(word_dict))\n",
    "\n",
    "similarities.save(join(DIR, SIMILARITIES))\n",
    "# load by: similarities.similarity.load(join(DIR, 'deerwester.index'))\n",
    "print(\"this cell cost about:\", (time() - start) / 60, 'mins')"
   ]
  },
  {
   "cell_type": "markdown",
   "metadata": {},
   "source": [
    "# Find best relevant documents"
   ]
  },
  {
   "cell_type": "code",
   "execution_count": 11,
   "metadata": {},
   "outputs": [],
   "source": [
    "from gensim.parsing.preprocessing import remove_stopwords\n",
    "from gensim.parsing.preprocessing import strip_punctuation\n",
    "from gensim.parsing.preprocessing import stem_text\n",
    "\n",
    "def preprocess_sent(text):\n",
    "    return stem_text(remove_stopwords(strip_punctuation(text)))\n",
    "\n",
    "claim1 = \"Nikolaj Coster-Waldau worked with the Fox Broadcasting Company.\"\n",
    "query_bow = word_dict.doc2bow(preprocess_sent(claim1).split())"
   ]
  },
  {
   "cell_type": "code",
   "execution_count": 13,
   "metadata": {},
   "outputs": [
    {
     "name": "stdout",
     "output_type": "stream",
     "text": [
      "It cost around 1.4145798683166504 seconds for one claim.\n"
     ]
    }
   ],
   "source": [
    "#index=similarities.Similarity('E:\\\\cm_test',tfidf[corpus_tfidf],len(dictionary))\n",
    "import numpy as np\n",
    "\n",
    "start = time()\n",
    "\n",
    "query_doc_tf_idf = model[query_bow]\n",
    "query_doc_similarities = similarities[query_doc_tf_idf]\n",
    "\n",
    "doc_ids = np.argsort(query_doc_similarities)[-50:][::-1]\n",
    "\n",
    "print(\"It cost around\", time() - start, \"seconds for one claim.\")"
   ]
  },
  {
   "cell_type": "code",
   "execution_count": 14,
   "metadata": {},
   "outputs": [
    {
     "name": "stdout",
     "output_type": "stream",
     "text": [
      "title:  Coster\n",
      "title:  Ved_verdens_ende\n",
      "title:  Waldau\n",
      "title:  Waldau_-LRB-surname-RRB-\n",
      "title:  New_Amsterdam_-LRB-TV_series-RRB-\n",
      "title:  Nikolaj_Coster-Waldau\n",
      "title:  A_Second_Chance_-LRB-2014_film-RRB-\n",
      "title:  Nikolaj\n",
      "title:  Coster_-LRB-disambiguation-RRB-\n",
      "title:  A_Thousand_Times_Good_Night\n",
      "title:  The_Baker_-LRB-film-RRB-\n",
      "title:  Nukaaka_Coster-Waldau\n",
      "title:  Sven_Coster\n",
      "title:  Kalle_Coster\n",
      "title:  De_Coster\n",
      "title:  Jean-Baptiste_De_Coster_-LRB-Jesuit-RRB-\n",
      "title:  Saskia_De_Coster\n",
      "title:  Tracy_Coster\n",
      "title:  The_Other_Woman_-LRB-2014_film-RRB-\n",
      "title:  Project_Laurens_Janszoon_Coster\n",
      "title:  Dick_Coster\n",
      "title:  Nahetal-Waldau\n",
      "title:  Samuel_Coster\n",
      "title:  Harry_Waldau\n",
      "title:  Small_Crimes\n",
      "title:  Shot_Caller_-LRB-film-RRB-\n",
      "title:  Salomon_Coster\n",
      "title:  Stan_Coster\n",
      "title:  Arnold_Coster\n",
      "title:  Gustav_Waldau\n",
      "title:  Mama_-LRB-2013_film-RRB-\n",
      "title:  Kunsthallen_Nikolaj\n",
      "title:  Nikolaj_Plads\n",
      "title:  Lionel_Lockridge\n",
      "title:  Nikolaj_Hess\n",
      "title:  45_-LRB-film-RRB-\n",
      "title:  Willem_Jacobszoon_Coster\n",
      "title:  Fox_-LRB-Turkey-RRB-\n",
      "title:  Coster–Kronig_transition\n",
      "title:  Tommy_Coster\n",
      "title:  Francis_Coster\n",
      "title:  Paul_Waldau\n",
      "title:  Elizabeth_Coster\n",
      "title:  Tom_Coster\n",
      "title:  Waldau_Army_Airfield\n",
      "title:  Headhunters_-LRB-film-RRB-\n",
      "title:  Nikolaj_Hansen_-LRB-footballer-RRB-\n",
      "title:  Maggy_de_Coster\n",
      "title:  St._Nicholas'_Church,_Aarhus\n",
      "title:  Fox_Broadcasting_Company\n"
     ]
    }
   ],
   "source": [
    "import pickle\n",
    "\n",
    "titles = pickle.load(open(join(DIR, TITLES), \"rb\" ))\n",
    "\n",
    "for doc_id in doc_ids:\n",
    "    print(\"title: \", titles[doc_id])"
   ]
  },
  {
   "cell_type": "code",
   "execution_count": null,
   "metadata": {},
   "outputs": [],
   "source": []
  },
  {
   "cell_type": "code",
   "execution_count": null,
   "metadata": {},
   "outputs": [],
   "source": []
  }
 ],
 "metadata": {
  "kernelspec": {
   "display_name": "Python 3",
   "language": "python",
   "name": "python3"
  },
  "language_info": {
   "codemirror_mode": {
    "name": "ipython",
    "version": 3
   },
   "file_extension": ".py",
   "mimetype": "text/x-python",
   "name": "python",
   "nbconvert_exporter": "python",
   "pygments_lexer": "ipython3",
   "version": "3.7.3"
  }
 },
 "nbformat": 4,
 "nbformat_minor": 2
}
