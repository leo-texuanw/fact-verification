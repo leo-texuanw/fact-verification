{
 "cells": [
  {
   "cell_type": "code",
   "execution_count": 1,
   "metadata": {},
   "outputs": [],
   "source": [
    "from os import listdir\n",
    "from time import time\n",
    "\n",
    "DIR = './wiki-pages-text/'\n",
    "DEST_DIR = './objects/'\n",
    "\n",
    "data_files = listdir(DIR)\n",
    "docs = {}  # {doc_title: [('sent_id': sent)]}"
   ]
  },
  {
   "cell_type": "code",
   "execution_count": 2,
   "metadata": {},
   "outputs": [
    {
     "name": "stderr",
     "output_type": "stream",
     "text": [
      "/home/ubuntu/anaconda3/lib/python3.7/site-packages/smart_open/ssh.py:34: UserWarning: paramiko missing, opening SSH/SCP/SFTP paths will be disabled.  `pip install paramiko` to suppress\n",
      "  warnings.warn('paramiko missing, opening SSH/SCP/SFTP paths will be disabled.  `pip install paramiko` to suppress')\n"
     ]
    }
   ],
   "source": [
    "from gensim.parsing.preprocessing import remove_stopwords\n",
    "from gensim.parsing.preprocessing import strip_punctuation\n",
    "from gensim.parsing.preprocessing import stem_text\n",
    "\n",
    "def preprocess_sent(text):\n",
    "    return stem_text(remove_stopwords(strip_punctuation(text)))"
   ]
  },
  {
   "cell_type": "code",
   "execution_count": null,
   "metadata": {},
   "outputs": [],
   "source": [
    "from os.path import join\n",
    "from multiprocessing import Pool\n",
    "\n",
    "def preprocess_corpus(corpus_file, path=DIR, dest_path=DEST_DIR):\n",
    "    prefix = join(DEST_DIR, 'processed-')\n",
    "    dest_file = prefix + corpus_file.split('.')[0] + '.txt'\n",
    "    with open(join(path, corpus_file), 'r') as f:\n",
    "        dest = open(dest_file, 'wb')\n",
    "        \n",
    "        for line in f:\n",
    "            title, sent_id, sent = line.strip('\\n').split(' ', 2)\n",
    "            dest.write(' '.join([title, sent_id, preprocess_sent(sent)+'\\n']).encode())\n",
    "        dest.close()\n",
    "\n",
    "pool = Pool(processes=12)\n",
    "pool.map(preprocess_corpus, data_files)\n",
    "pool.close()\n",
    "pool.join()"
   ]
  }
 ],
 "metadata": {
  "kernelspec": {
   "display_name": "Python 3",
   "language": "python",
   "name": "python3"
  },
  "language_info": {
   "codemirror_mode": {
    "name": "ipython",
    "version": 3
   },
   "file_extension": ".py",
   "mimetype": "text/x-python",
   "name": "python",
   "nbconvert_exporter": "python",
   "pygments_lexer": "ipython3",
   "version": "3.7.3"
  }
 },
 "nbformat": 4,
 "nbformat_minor": 2
}
