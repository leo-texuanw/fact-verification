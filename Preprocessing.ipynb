{
 "cells": [
  {
   "cell_type": "code",
   "execution_count": 1,
   "metadata": {},
   "outputs": [],
   "source": [
    "from os import listdir\n",
    "from os.path import join\n",
    "\n",
    "DIR = './wiki-pages-text/'\n",
    "\n",
    "data_files = listdir(DIR)\n",
    "docs = {}  # {doc_title: [('sent_id': sent)]}"
   ]
  },
  {
   "cell_type": "code",
   "execution_count": 2,
   "metadata": {},
   "outputs": [
    {
     "name": "stderr",
     "output_type": "stream",
     "text": [
      "100%|██████████| 109/109 [01:01<00:00,  1.77it/s]"
     ]
    },
    {
     "name": "stdout",
     "output_type": "stream",
     "text": [
      "5396106 files in corpus.\n"
     ]
    },
    {
     "name": "stderr",
     "output_type": "stream",
     "text": [
      "\n"
     ]
    }
   ],
   "source": [
    "import pickle\n",
    "from tqdm import tqdm\n",
    "\n",
    "doc_id = 0\n",
    "\n",
    "for file in tqdm(data_files):\n",
    "    with open(join(DIR, file), 'r') as f:\n",
    "        for line in f:\n",
    "            title, sent_id, sent = line.strip('\\n').split(' ', 2)\n",
    "            docs[title] = docs.get(title, []) + [(sent_id, sent)]\n",
    "print(str(len(docs)) + \" files in corpus.\")"
   ]
  },
  {
   "cell_type": "code",
   "execution_count": 3,
   "metadata": {},
   "outputs": [
    {
     "name": "stderr",
     "output_type": "stream",
     "text": [
      "100%|██████████| 5396106/5396106 [00:19<00:00, 281099.11it/s]\n"
     ]
    }
   ],
   "source": [
    "titles = {} # {doc_id, title}\n",
    "contents = []\n",
    "\n",
    "i = 0\n",
    "for title, sents in tqdm(docs.items()):\n",
    "    titles[i] = title\n",
    "    i += 1\n",
    "    content = \"\"\n",
    "    for sent_id_, sent in sents:\n",
    "        content += sent\n",
    "\n",
    "    contents.append(content)\n",
    "\n",
    "del docs # free memory used by docs"
   ]
  },
  {
   "cell_type": "code",
   "execution_count": 4,
   "metadata": {},
   "outputs": [],
   "source": [
    "with open('titles_dict.pkl', 'wb') as f_titles:\n",
    "    pickle.dump(titles, f_titles)"
   ]
  },
  {
   "cell_type": "markdown",
   "metadata": {},
   "source": [
    "# Find best matching documents"
   ]
  },
  {
   "cell_type": "code",
   "execution_count": 20,
   "metadata": {},
   "outputs": [
    {
     "name": "stdout",
     "output_type": "stream",
     "text": [
      "(5396106, 4608465)\n"
     ]
    }
   ],
   "source": [
    "from sklearn.pipeline import Pipeline\n",
    "\n",
    "from sklearn.feature_extraction.text import CountVectorizer\n",
    "from sklearn.feature_extraction.text import TfidfTransformer\n",
    "from time import time\n",
    "\n",
    "tf_idf = Pipeline([('vect', CountVectorizer(stop_words='english')),\n",
    "                     ('tfidf', TfidfTransformer())\n",
    "])\n",
    "tf_idf_matrix = tf_idf.fit_transform(contents)\n",
    "print(tf_idf_matrix.shape)"
   ]
  },
  {
   "cell_type": "code",
   "execution_count": 11,
   "metadata": {},
   "outputs": [
    {
     "ename": "OSError",
     "evalue": "[Errno 22] Invalid argument",
     "output_type": "error",
     "traceback": [
      "\u001b[0;31m---------------------------------------------------------------------------\u001b[0m",
      "\u001b[0;31mOSError\u001b[0m                                   Traceback (most recent call last)",
      "\u001b[0;32m<ipython-input-11-f2a0441db03b>\u001b[0m in \u001b[0;36m<module>\u001b[0;34m()\u001b[0m\n\u001b[1;32m      1\u001b[0m \u001b[0;32mwith\u001b[0m \u001b[0mopen\u001b[0m\u001b[0;34m(\u001b[0m\u001b[0;34m'tf_idf_nltk.pkl'\u001b[0m\u001b[0;34m,\u001b[0m \u001b[0;34m'wb'\u001b[0m\u001b[0;34m)\u001b[0m \u001b[0;32mas\u001b[0m \u001b[0mf_docs\u001b[0m\u001b[0;34m:\u001b[0m\u001b[0;34m\u001b[0m\u001b[0m\n\u001b[0;32m----> 2\u001b[0;31m     \u001b[0mpickle\u001b[0m\u001b[0;34m.\u001b[0m\u001b[0mdump\u001b[0m\u001b[0;34m(\u001b[0m\u001b[0mtf_idf\u001b[0m\u001b[0;34m,\u001b[0m \u001b[0mf_docs\u001b[0m\u001b[0;34m)\u001b[0m\u001b[0;34m\u001b[0m\u001b[0m\n\u001b[0m",
      "\u001b[0;31mOSError\u001b[0m: [Errno 22] Invalid argument"
     ]
    }
   ],
   "source": [
    "# with open('tf_idf_nltk.pkl', 'wb') as f_docs:\n",
    "#     pickle.dump(tf_idf, f_docs)"
   ]
  },
  {
   "cell_type": "code",
   "execution_count": 24,
   "metadata": {},
   "outputs": [],
   "source": [
    "claim1 = tf_idf.transform([\"Nikolaj Coster-Waldau worked with the Fox Broadcasting Company.\"])"
   ]
  },
  {
   "cell_type": "code",
   "execution_count": 39,
   "metadata": {},
   "outputs": [],
   "source": [
    "import numpy as np\n",
    "from sklearn.metrics.pairwise import cosine_similarity\n",
    "cosine_similarities = [ similarity[0] for similarity in cosine_similarity(tf_idf_matrix, claim1)]\n",
    "doc_ids = np.argsort(cosine_similarities)[-50:][::-1]"
   ]
  },
  {
   "cell_type": "code",
   "execution_count": 41,
   "metadata": {},
   "outputs": [
    {
     "name": "stdout",
     "output_type": "stream",
     "text": [
      "title:  Coster\n",
      "title:  Ved_verdens_ende\n",
      "title:  Waldau_-LRB-surname-RRB-\n",
      "title:  New_Amsterdam_-LRB-TV_series-RRB-\n",
      "title:  A_Second_Chance_-LRB-2014_film-RRB-\n",
      "title:  Coster_-LRB-disambiguation-RRB-\n",
      "title:  Nukaaka_Coster-Waldau\n",
      "title:  Sven_Coster\n",
      "title:  Kalle_Coster\n",
      "title:  A_Thousand_Times_Good_Night\n",
      "title:  Jean-Baptiste_De_Coster_-LRB-Jesuit-RRB-\n",
      "title:  Nikolaj_Coster-Waldau\n",
      "title:  De_Coster\n",
      "title:  The_Baker_-LRB-film-RRB-\n",
      "title:  Tracy_Coster\n",
      "title:  Saskia_De_Coster\n",
      "title:  The_Other_Woman_-LRB-2014_film-RRB-\n",
      "title:  Project_Laurens_Janszoon_Coster\n",
      "title:  Dick_Coster\n",
      "title:  Salomon_Coster\n",
      "title:  Fox_-LRB-Turkey-RRB-\n",
      "title:  Shot_Caller_-LRB-film-RRB-\n",
      "title:  Harry_Waldau\n",
      "title:  Arnold_Coster\n",
      "title:  Small_Crimes\n",
      "title:  Kunsthallen_Nikolaj\n",
      "title:  Nikolaj_Plads\n",
      "title:  Fox_Lab\n",
      "title:  Gustav_Waldau\n",
      "title:  Lionel_Lockridge\n",
      "title:  45_-LRB-film-RRB-\n",
      "title:  Samuel_Coster\n",
      "title:  Stan_Coster\n",
      "title:  Fox_House\n",
      "title:  Willem_Jacobszoon_Coster\n",
      "title:  Tommy_Coster\n",
      "title:  Coster–Kronig_transition\n",
      "title:  The_Fox\n",
      "title:  Elizabeth_Coster\n",
      "title:  Nahetal-Waldau\n",
      "title:  Nikolaj_Hess\n",
      "title:  Fox_-LRB-clothing-RRB-\n",
      "title:  Fox_Broadcasting_Company\n",
      "title:  Waldau_Army_Airfield\n",
      "title:  Mama_-LRB-2013_film-RRB-\n",
      "title:  Nikolaj_Hansen_-LRB-footballer-RRB-\n",
      "title:  Fox_Major_League_Baseball\n",
      "title:  St._Nicholas'_Church,_Esbjerg\n",
      "title:  Nikolaj_Overgaard\n",
      "title:  Waldau\n"
     ]
    }
   ],
   "source": [
    "for doc_id in doc_ids:\n",
    "    print(\"title: \", titles[doc_id])"
   ]
  },
  {
   "cell_type": "code",
   "execution_count": null,
   "metadata": {},
   "outputs": [],
   "source": []
  }
 ],
 "metadata": {
  "kernelspec": {
   "display_name": "Python 3",
   "language": "python",
   "name": "python3"
  },
  "language_info": {
   "codemirror_mode": {
    "name": "ipython",
    "version": 3
   },
   "file_extension": ".py",
   "mimetype": "text/x-python",
   "name": "python",
   "nbconvert_exporter": "python",
   "pygments_lexer": "ipython3",
   "version": "3.6.4"
  }
 },
 "nbformat": 4,
 "nbformat_minor": 2
}
