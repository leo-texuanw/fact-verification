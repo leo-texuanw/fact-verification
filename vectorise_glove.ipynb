{
 "cells": [
  {
   "cell_type": "code",
   "execution_count": 1,
   "metadata": {},
   "outputs": [],
   "source": [
    "from os import listdir\n",
    "from os.path import join\n",
    "from functools import partial, reduce\n",
    "from multiprocessing import Pool\n",
    "\n",
    "from time import time\n",
    "from tqdm import tqdm\n",
    "\n",
    "import csv\n",
    "import pandas as pd\n",
    "import numpy as np"
   ]
  },
  {
   "cell_type": "code",
   "execution_count": 2,
   "metadata": {},
   "outputs": [],
   "source": [
    "def load_glove(path):\n",
    "    return pd.read_csv(path, sep=\" \", index_col=0, header=None, quoting=csv.QUOTE_NONE)"
   ]
  },
  {
   "cell_type": "code",
   "execution_count": 3,
   "metadata": {},
   "outputs": [],
   "source": [
    "def load_corpus(file_path, file_name):\n",
    "    docs = {}\n",
    "    with open(join(file_path, file_name), 'r') as f:\n",
    "        for line in f:\n",
    "            line = line.strip('\\n').split(' ')\n",
    "            title = line[0]\n",
    "            docs[title] = docs.get(title, []) + line[2:]\n",
    "    return docs"
   ]
  },
  {
   "cell_type": "code",
   "execution_count": 4,
   "metadata": {},
   "outputs": [],
   "source": [
    "def get_word_vec(word, glove):\n",
    "    try:\n",
    "        return glove.loc[word].as_matrix()\n",
    "    except:\n",
    "        return glove.loc['unk'].as_matrix()"
   ]
  },
  {
   "cell_type": "code",
   "execution_count": 5,
   "metadata": {},
   "outputs": [],
   "source": [
    "def doc_embedding(doc, glove):\n",
    "    word_embeddings = map(partial(get_word_vec, glove=glove), doc)\n",
    "    sum_doc_embedding = reduce(np.add, word_embeddings)\n",
    "    return sum_doc_embedding / len(doc)"
   ]
  },
  {
   "cell_type": "code",
   "execution_count": 6,
   "metadata": {},
   "outputs": [],
   "source": [
    "def process_corpus_with_glove(file_name, file_path, dest_path, glove):\n",
    "    with open(join(dest_path, file_name), 'w') as dest_f:\n",
    "        docs = load_corpus(file_path, file_name)\n",
    "        \n",
    "        for title, doc in tqdm(docs.items()):\n",
    "            doc = doc_embedding(doc, glove)\n",
    "            temp = \" \".join(map(str, doc.tolist()))\n",
    "            dest_f.write(title + \" \" + temp + '\\n')\n",
    "    print(\"finish file\", file_name)"
   ]
  },
  {
   "cell_type": "code",
   "execution_count": 7,
   "metadata": {},
   "outputs": [],
   "source": [
    "TOOL = './tools'\n",
    "GLOVE_840 = 'glove.840B.300d.txt'\n",
    "COURPUS_PATH = './wiki-pages-text/'\n",
    "PROCESSED_CORPUS_GLOVE = './processed_wiki_glove'"
   ]
  },
  {
   "cell_type": "code",
   "execution_count": 8,
   "metadata": {},
   "outputs": [
    {
     "name": "stdout",
     "output_type": "stream",
     "text": [
      "load glove: 137.74192333221436 seconds\n"
     ]
    }
   ],
   "source": [
    "start = time()\n",
    "glove = load_glove(join(TOOL, GLOVE_840))\n",
    "print(\"load glove:\", time() - start, \"seconds\")"
   ]
  },
  {
   "cell_type": "code",
   "execution_count": null,
   "metadata": {},
   "outputs": [
    {
     "name": "stdout",
     "output_type": "stream",
     "text": [
      "300\n"
     ]
    },
    {
     "name": "stderr",
     "output_type": "stream",
     "text": [
      "/home/texuanw/softwares/anaconda3/lib/python3.6/site-packages/ipykernel_launcher.py:3: FutureWarning: Method .as_matrix will be removed in a future version. Use .values instead.\n",
      "  This is separate from the ipykernel package so we can avoid doing imports until\n"
     ]
    }
   ],
   "source": [
    "line = ['title', 'hello', 'world']\n",
    "doc_embed = doc_embedding(line, glove)\n",
    "print(len(doc_embed))\n",
    "# print(doc_embed)"
   ]
  },
  {
   "cell_type": "code",
   "execution_count": null,
   "metadata": {},
   "outputs": [],
   "source": [
    "data_files = listdir(COURPUS_PATH)"
   ]
  },
  {
   "cell_type": "code",
   "execution_count": null,
   "metadata": {},
   "outputs": [],
   "source": [
    "# pool = Pool(processes=12)\n",
    "# pool.map(partial(process_corpus_with_glove,\n",
    "#                  file_path=COURPUS_PATH,\n",
    "#                  dest_path=PROCESSED_CORPUS_GLOVE,\n",
    "#                  glove=glove),\n",
    "#          data_files)\n",
    "# pool.close()\n",
    "# pool.join()"
   ]
  },
  {
   "cell_type": "code",
   "execution_count": null,
   "metadata": {
    "scrolled": true
   },
   "outputs": [
    {
     "name": "stderr",
     "output_type": "stream",
     "text": [
      "  0%|          | 0/49958 [00:00<?, ?it/s]/home/texuanw/softwares/anaconda3/lib/python3.6/site-packages/ipykernel_launcher.py:3: FutureWarning: Method .as_matrix will be removed in a future version. Use .values instead.\n",
      "  This is separate from the ipykernel package so we can avoid doing imports until\n",
      "/home/texuanw/softwares/anaconda3/lib/python3.6/site-packages/ipykernel_launcher.py:5: FutureWarning: Method .as_matrix will be removed in a future version. Use .values instead.\n",
      "  \"\"\"\n",
      "  2%|▏         | 816/49958 [41:47<26:10:34,  1.92s/it] "
     ]
    }
   ],
   "source": [
    "process_corpus_with_glove(\n",
    "    data_files[0],\n",
    "    file_path=COURPUS_PATH,\n",
    "    dest_path=PROCESSED_CORPUS_GLOVE,\n",
    "    glove=glove)"
   ]
  }
 ],
 "metadata": {
  "kernelspec": {
   "display_name": "Python 3",
   "language": "python",
   "name": "python3"
  },
  "language_info": {
   "codemirror_mode": {
    "name": "ipython",
    "version": 3
   },
   "file_extension": ".py",
   "mimetype": "text/x-python",
   "name": "python",
   "nbconvert_exporter": "python",
   "pygments_lexer": "ipython3",
   "version": "3.6.8"
  }
 },
 "nbformat": 4,
 "nbformat_minor": 2
}
